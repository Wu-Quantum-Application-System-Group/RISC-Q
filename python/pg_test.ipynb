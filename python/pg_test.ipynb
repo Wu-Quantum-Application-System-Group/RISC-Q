{
 "cells": [
  {
   "cell_type": "code",
   "execution_count": 20,
   "metadata": {},
   "outputs": [],
   "source": [
    "# import matplotlib.pyplot as plt\n",
    "import numpy as np\n",
    "def cos_edge_square(twidth,  dt, ramp_fraction=0.25):\n",
    "    tedge=np.arange(0, 2*twidth*ramp_fraction, dt)\n",
    "    t=np.arange(0, twidth, dt)\n",
    "    width=len(t)\n",
    "    if (ramp_fraction>0 and ramp_fraction<=0.5 and twidth>0):\n",
    "        f=1.0/(2*ramp_fraction*twidth)\n",
    "        edges=(np.cos(2*np.pi*f*tedge-np.pi)+1.0)/2.0\n",
    "        #pyplot.plot(edges)\n",
    "        #pyplot.show()\n",
    "        nramp=int(len(edges)/2)\n",
    "        nflat=width-len(edges)\n",
    "        env=np.concatenate((edges[:nramp], np.ones(nflat), edges[nramp:]))\n",
    "    else:\n",
    "        print('ramp_fraction (ramp_length/twidth) should be 0<ramp_function<=0.5, %s and twidth>0 %s'%(str(ramp_fraction), str(twidth)))\n",
    "        env=np.ones(width)\n",
    "    return (t, env)\n",
    "\n",
    "# def test():\n",
    "#     t, env = cos_edge_square(128, 1)\n",
    "#     plt.plot(t, env * 0.9)\n",
    "#     plt.show()\n",
    "\n",
    "# test()\n"
   ]
  },
  {
   "cell_type": "code",
   "execution_count": null,
   "metadata": {},
   "outputs": [],
   "source": [
    "# utils for simulation\n",
    "\n",
    "from riscq.assembler import *\n",
    "from pynq import Overlay\n",
    "overlay = Overlay(\"./qubic-2-qubits.bit\")\n",
    "\n",
    "from pynq import MMIO\n",
    "pulse_mem_offset = 0x80000000\n",
    "PULSE_MEM = MMIO(pulse_mem_offset, 2 ** 24)\n",
    "inst_offset = 0x81000000\n",
    "INST_MEM = MMIO(inst_offset, 2 ** 24)\n",
    "rst_offset = 0x90000000\n",
    "RST_MEM = MMIO(rst_offset, 2 ** 8)\n",
    "\n",
    "def reset_dsp():\n",
    "  RST_MEM.write(0, 1)\n",
    "  RST_MEM.write(0, 0)\n",
    "\n",
    "def load_inst(addr, insts):\n",
    "  bins = assemble(insts)\n",
    "  cur_addr = addr\n",
    "  for inst in bins:\n",
    "    slices = [inst[i:i+32] for i in range(0, 128, 32)]\n",
    "    for slice in reversed(slices):\n",
    "      INST_MEM.write(cur_addr, int(slice, 2).to_bytes(4, 'little'))\n",
    "      cur_addr += 4\n",
    "\n",
    "def load_pulse(id, addr, env):\n",
    "  cur_addr = id * (2 ** 20) + addr\n",
    "  for d in env:\n",
    "    d_int = int(d * (2 ** 15))\n",
    "    d_bytes = d_int.to_bytes(2, 'little', signed = True)\n",
    "    PULSE_MEM.write(cur_addr, d_bytes)\n",
    "    print(d_int, d_bytes)\n",
    "    cur_addr += 2"
   ]
  },
  {
   "cell_type": "code",
   "execution_count": null,
   "metadata": {},
   "outputs": [],
   "source": [
    "# prepare data\n",
    "\n",
    "## prepare instructions\n",
    "set_time = SETTIME(10)\n",
    "\n",
    "# the phase between each env point is freq / (2 ** 15) * pi\n",
    "inv_freq = int((1 << 15) / 32.0)\n",
    "amp = (1 << 15) - 1\n",
    "id = 0\n",
    "set_carrier = CARRIER(inv_freq = inv_freq, phase = 0, id = id)\n",
    "send_pulse = PULSE(start = 70, addr = 0, duration = 8, phase = 0, amp = amp, id = id)\n",
    "loop = BEQ(0, 0, 0)\n",
    "\n",
    "insts = [set_time, set_carrier, send_pulse, loop]\n",
    "\n",
    "## prepare envelope\n",
    "t, env = cos_edge_square(128, 1)\n"
   ]
  },
  {
   "cell_type": "code",
   "execution_count": null,
   "metadata": {},
   "outputs": [],
   "source": [
    "# start test\n",
    "\n",
    "reset_dsp()\n",
    "\n",
    "load_inst(0, insts)\n",
    "load_pulse(0, 0, env * 0.9)\n",
    "\n",
    "reset_dsp()\n"
   ]
  }
 ],
 "metadata": {
  "kernelspec": {
   "display_name": ".venv",
   "language": "python",
   "name": "python3"
  },
  "language_info": {
   "codemirror_mode": {
    "name": "ipython",
    "version": 3
   },
   "file_extension": ".py",
   "mimetype": "text/x-python",
   "name": "python",
   "nbconvert_exporter": "python",
   "pygments_lexer": "ipython3",
   "version": "3.13.1"
  }
 },
 "nbformat": 4,
 "nbformat_minor": 2
}
